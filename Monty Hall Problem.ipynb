{
 "cells": [
  {
   "cell_type": "code",
   "execution_count": 3,
   "metadata": {},
   "outputs": [],
   "source": [
    "from random import randint, choice\n",
    "import numpy\n",
    "# Monty Hall problem experiment\n",
    "def montyHall(doors):\n",
    "    # Setting all doors to 0 by default, 0=No Prize and 1=Prize\n",
    "    options = numpy.array([0]*doors)                \n",
    "    \n",
    "    # Setting a door with random index to 1\n",
    "    prizeDoor = randint(0, doors-1)\n",
    "    options[prizeDoor] = 1   \n",
    "    \n",
    "    # Make a random guess of door to open \n",
    "    guess = randint(0, doors-1)\n",
    "    \n",
    "    # Open doors randomly excluding original guess and prizeDoor (If guess and prizeDoor are same, just leave other random door open)\n",
    "    final = [guess]\n",
    "    if guess == prizeDoor:\n",
    "        door2 = choice(numpy.where(options == 0)[0].tolist())\n",
    "        final.append(door2)\n",
    "    else:\n",
    "        final.append(prizeDoor)\n",
    "    \n",
    "    #Returns a dict. If Guess has prize, then it will equal 1. Else it will equal 0 and Door 2 will equal one\n",
    "    return dict(zip(['Guess', 'Door 2'], options[final]))\n",
    "\n",
    "\n",
    "# Fuction that repeats the Monty Hall Problem to simulate it and obtain data from results\n",
    "def montyHallLoop(doors, iterations):\n",
    "    # Variable to save what was the correct decision\n",
    "    data = {'keep': 0, 'change': 0}\n",
    "        \n",
    "    # If the original guess had the prize, 'keep' will increment\n",
    "    # Else, 'change' will increment\n",
    "    for i in range(iterations):\n",
    "        res = montyHall(doors)\n",
    "        if(res['Guess']==1):\n",
    "            data['keep']+=1\n",
    "        else:\n",
    "            data['change']+=1\n",
    "    return data"
   ]
  },
  {
   "cell_type": "code",
   "execution_count": 4,
   "metadata": {},
   "outputs": [
    {
     "name": "stdout",
     "output_type": "stream",
     "text": [
      "{'keep': 33264, 'change': 66736}\n",
      "Prob of winning by keeping original guess: 0.33264\n",
      "Prob of winning by changing original guess: 0.66736\n"
     ]
    }
   ],
   "source": [
    "res = montyHallLoop(3, 100000)\n",
    "print(res)\n",
    "print('Prob of winning by keeping original guess: ', end='')\n",
    "print(res['keep']/100000)\n",
    "print('Prob of winning by changing original guess: ', end='')\n",
    "print(res['change']/100000)"
   ]
  },
  {
   "cell_type": "code",
   "execution_count": null,
   "metadata": {},
   "outputs": [],
   "source": []
  }
 ],
 "metadata": {
  "kernelspec": {
   "display_name": "Python 3",
   "language": "python",
   "name": "python3"
  },
  "language_info": {
   "codemirror_mode": {
    "name": "ipython",
    "version": 3
   },
   "file_extension": ".py",
   "mimetype": "text/x-python",
   "name": "python",
   "nbconvert_exporter": "python",
   "pygments_lexer": "ipython3",
   "version": "3.7.7"
  }
 },
 "nbformat": 4,
 "nbformat_minor": 4
}
